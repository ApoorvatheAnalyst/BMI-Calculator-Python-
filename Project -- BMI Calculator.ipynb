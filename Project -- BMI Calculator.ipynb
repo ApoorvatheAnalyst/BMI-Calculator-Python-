{
 "cells": [
  {
   "cell_type": "markdown",
   "id": "12a7c6c4",
   "metadata": {},
   "source": [
    "# BMI Calculator"
   ]
  },
  {
   "cell_type": "markdown",
   "id": "6e2246fd",
   "metadata": {},
   "source": [
    "##### Body mass index (BMI) is a person’s weight in kilograms divided by the square of height in meters. BMI is an inexpensive and easy screening method for weight category—underweight, healthy weight, overweight, and obesity."
   ]
  },
  {
   "cell_type": "markdown",
   "id": "3d328377",
   "metadata": {},
   "source": [
    "##### BMI = Weight (in kilograms) / Height (in meter2)"
   ]
  },
  {
   "cell_type": "code",
   "execution_count": 10,
   "id": "1b8a7ecd",
   "metadata": {},
   "outputs": [
    {
     "name": "stdout",
     "output_type": "stream",
     "text": [
      "Enter your name :a\n",
      "Enter weight in Kgs : 85\n",
      "Enter height in meter : 1.61\n",
      "\n",
      "Classification of BMI Range (in kg/m2)\n",
      "Severe Thinness -- 16\n",
      "Moderate Thinness -- 16-17\n",
      "Mild Thinness -- 17-18.5\n",
      "Normal -- 18.5-25\n",
      "Overweight -- 25-30\n",
      "Mildly Obese -- 30-35\n",
      "Moderately Obese -- 35-40\n",
      "Severly Obese -- >40\n",
      "\n",
      " a, your BMI is : 32.79194475521777  and your classification is: Obese Class I\n"
     ]
    }
   ],
   "source": [
    "name =input(\"Enter your name :\")\n",
    "# asking for user input for height and weight.\n",
    "\n",
    "weight = float(input(\"Enter weight in Kgs : \"))  #storing weight in a variable\n",
    "height = float(input(\"Enter height in meter : \")) #storing height in a variable\n",
    "\n",
    "# calculationg the value of BMI\n",
    "BMI = (weight/ (height*height))\n",
    "\n",
    "print(\"\\nClassification of BMI Range (in kg/m2)\")\n",
    "print(\"Severe Thinness -- 16\")\n",
    "print(\"Moderate Thinness -- 16-17\")\n",
    "print(\"Mild Thinness -- 17-18.5\")\n",
    "print(\"Normal -- 18.5-25\")\n",
    "print(\"Overweight -- 25-30\")\n",
    "print(\"Mildly Obese -- 30-35\")\n",
    "print(\"Moderately Obese -- 35-40\")\n",
    "print(\"Severly Obese -- >40\")\n",
    "\n",
    "\n",
    "if(BMI>0):\n",
    "    if(BMI<=16):\n",
    "        print(\"\\n\",name + \", your BMI is :\",BMI, \" and your classification is: Severe Thinness\")\n",
    "    elif BMI>16 and BMI<=17:\n",
    "        print(\"\\n\",name + \", your BMI is :\",BMI, \" and your classification is: Moderate Thinness\")\n",
    "    elif BMI>17 and BMI<=18.5:\n",
    "        print(\"\\n\",name + \", your BMI is :\",BMI, \" and your classification is: Mild Thinness\")    \n",
    "    elif BMI>18.5 and BMI<=25:\n",
    "        print(\"\\n\",name + \", your BMI is :\",BMI, \" and your classification is: Normal\") \n",
    "    elif BMI>25 and BMI<=30:\n",
    "        print(\"\\n\",name + \", your BMI is :\",BMI, \" and your classification is: Overweight\")    \n",
    "    elif BMI>30 and BMI<=35:\n",
    "        print(\"\\n\",name + \", your BMI is :\",BMI, \" and your classification is: Mildly Obese\")    \n",
    "    elif BMI>35 and BMI<=40:\n",
    "        print(\"\\n\",name + \", your BMI is :\",BMI, \" and your classification is: Moderately Obese\")      \n",
    "    else:\n",
    "        print(\"\\n\",name + \", your BMI is :\",BMI, \" and your classification is: Severly Obese\")     \n",
    "    \n",
    "else:\n",
    "    print(\"Enter a valid Input\")"
   ]
  },
  {
   "cell_type": "code",
   "execution_count": null,
   "id": "a5f1590d",
   "metadata": {},
   "outputs": [],
   "source": []
  },
  {
   "cell_type": "code",
   "execution_count": null,
   "id": "3ea72692",
   "metadata": {},
   "outputs": [],
   "source": []
  },
  {
   "cell_type": "code",
   "execution_count": null,
   "id": "fb56bb9f",
   "metadata": {},
   "outputs": [],
   "source": []
  },
  {
   "cell_type": "code",
   "execution_count": null,
   "id": "51480d03",
   "metadata": {},
   "outputs": [],
   "source": []
  },
  {
   "cell_type": "code",
   "execution_count": null,
   "id": "4f9362ff",
   "metadata": {},
   "outputs": [],
   "source": []
  },
  {
   "cell_type": "code",
   "execution_count": null,
   "id": "6ba3637e",
   "metadata": {},
   "outputs": [],
   "source": []
  },
  {
   "cell_type": "code",
   "execution_count": null,
   "id": "fe61d019",
   "metadata": {},
   "outputs": [],
   "source": []
  },
  {
   "cell_type": "code",
   "execution_count": null,
   "id": "e6cbc9a8",
   "metadata": {},
   "outputs": [],
   "source": []
  },
  {
   "cell_type": "code",
   "execution_count": null,
   "id": "8f064f3a",
   "metadata": {},
   "outputs": [],
   "source": []
  },
  {
   "cell_type": "code",
   "execution_count": null,
   "id": "e7407e72",
   "metadata": {},
   "outputs": [],
   "source": []
  },
  {
   "cell_type": "code",
   "execution_count": null,
   "id": "8ad2e4ea",
   "metadata": {},
   "outputs": [],
   "source": []
  },
  {
   "cell_type": "code",
   "execution_count": null,
   "id": "4d90e8b5",
   "metadata": {},
   "outputs": [],
   "source": []
  },
  {
   "cell_type": "code",
   "execution_count": null,
   "id": "49998fd0",
   "metadata": {},
   "outputs": [],
   "source": []
  },
  {
   "cell_type": "code",
   "execution_count": null,
   "id": "88eeb333",
   "metadata": {},
   "outputs": [],
   "source": []
  },
  {
   "cell_type": "code",
   "execution_count": null,
   "id": "8af1b3ef",
   "metadata": {},
   "outputs": [],
   "source": []
  }
 ],
 "metadata": {
  "kernelspec": {
   "display_name": "Python 3 (ipykernel)",
   "language": "python",
   "name": "python3"
  },
  "language_info": {
   "codemirror_mode": {
    "name": "ipython",
    "version": 3
   },
   "file_extension": ".py",
   "mimetype": "text/x-python",
   "name": "python",
   "nbconvert_exporter": "python",
   "pygments_lexer": "ipython3",
   "version": "3.9.7"
  }
 },
 "nbformat": 4,
 "nbformat_minor": 5
}
